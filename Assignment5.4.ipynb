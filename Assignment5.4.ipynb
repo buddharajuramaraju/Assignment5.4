{
 "cells": [
  {
   "cell_type": "markdown",
   "metadata": {},
   "source": [
    "### Problem Statement\n",
    "Write a function to find moving average in an array over a window:\n",
    "Test it over [3, 5, 7, 2, 8, 10, 11, 65, 72, 81, 99, 100, 150] and window of 3."
   ]
  },
  {
   "cell_type": "code",
   "execution_count": 1,
   "metadata": {
    "collapsed": true
   },
   "outputs": [],
   "source": [
    "import numpy as np"
   ]
  },
  {
   "cell_type": "code",
   "execution_count": 111,
   "metadata": {},
   "outputs": [],
   "source": [
    "def moving_average(npArray,windowSize):\n",
    "    if windowSize == None or windowSize == 0:\n",
    "        raise Exception('windowSize must be greater than Zero')\n",
    "    n = len(npArray) # length of Array\n",
    "    k = windowSize-1 \n",
    "    for i in range(n-k):\n",
    "        k=k+1\n",
    "        formula = '={}/{}'.format(\"+\".join([str(s) for s in npArray[i:k].tolist()]),windowSize)\n",
    "        print('Y{}{}{} {}'.format(i+1,(i+1)*' ',sum(npArray[i:k])/4,formula)   )\n",
    "    return n-windowSize+1\n"
   ]
  },
  {
   "cell_type": "code",
   "execution_count": 112,
   "metadata": {},
   "outputs": [],
   "source": [
    "array=np.array([3, 5, 7, 2, 8, 10, 11, 65, 72, 81, 99, 100, 150])"
   ]
  },
  {
   "cell_type": "code",
   "execution_count": 114,
   "metadata": {},
   "outputs": [
    {
     "name": "stdout",
     "output_type": "stream",
     "text": [
      "Y1 3.75 =3+5+7/3\n",
      "Y2  3.5 =5+7+2/3\n",
      "Y3   4.25 =7+2+8/3\n",
      "Y4    5.0 =2+8+10/3\n",
      "Y5     7.25 =8+10+11/3\n",
      "Y6      21.5 =10+11+65/3\n",
      "Y7       37.0 =11+65+72/3\n",
      "Y8        54.5 =65+72+81/3\n",
      "Y9         63.0 =72+81+99/3\n",
      "Y10          70.0 =81+99+100/3\n",
      "Y11           87.25 =99+100+150/3\n"
     ]
    },
    {
     "data": {
      "text/plain": [
       "11"
      ]
     },
     "execution_count": 114,
     "metadata": {},
     "output_type": "execute_result"
    }
   ],
   "source": [
    "moving_average(npArray=array,windowSize=3)"
   ]
  },
  {
   "cell_type": "code",
   "execution_count": null,
   "metadata": {
    "collapsed": true
   },
   "outputs": [],
   "source": []
  },
  {
   "cell_type": "code",
   "execution_count": null,
   "metadata": {
    "collapsed": true
   },
   "outputs": [],
   "source": []
  }
 ],
 "metadata": {
  "kernelspec": {
   "display_name": "Python 3",
   "language": "python",
   "name": "python3"
  },
  "language_info": {
   "codemirror_mode": {
    "name": "ipython",
    "version": 3
   },
   "file_extension": ".py",
   "mimetype": "text/x-python",
   "name": "python",
   "nbconvert_exporter": "python",
   "pygments_lexer": "ipython3",
   "version": "3.6.3"
  }
 },
 "nbformat": 4,
 "nbformat_minor": 2
}
